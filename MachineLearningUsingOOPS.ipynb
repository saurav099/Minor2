{
  "nbformat": 4,
  "nbformat_minor": 0,
  "metadata": {
    "colab": {
      "name": "MachineLearningUsingOOPS.ipynb",
      "provenance": [],
      "collapsed_sections": [],
      "toc_visible": true
    },
    "kernelspec": {
      "name": "python3",
      "display_name": "Python 3"
    },
    "language_info": {
      "name": "python"
    }
  },
  "cells": [
    {
      "cell_type": "code",
      "metadata": {
        "colab": {
          "base_uri": "https://localhost:8080/"
        },
        "id": "PQZUG1f3XnRe",
        "outputId": "47654094-f653-47ed-d534-c01c25b4ff50"
      },
      "source": [
        "from google.colab import drive\n",
        "drive.mount('/content/drive')"
      ],
      "execution_count": null,
      "outputs": [
        {
          "output_type": "stream",
          "text": [
            "Mounted at /content/drive\n"
          ],
          "name": "stdout"
        }
      ]
    },
    {
      "cell_type": "code",
      "metadata": {
        "colab": {
          "base_uri": "https://localhost:8080/"
        },
        "id": "hP1NyXHUGujM",
        "outputId": "bb5a68ac-3aec-45dc-9b1c-96a4d2b83f3a"
      },
      "source": [
        "pip install multipledispatch"
      ],
      "execution_count": null,
      "outputs": [
        {
          "output_type": "stream",
          "text": [
            "Collecting multipledispatch\n",
            "  Downloading https://files.pythonhosted.org/packages/89/79/429ecef45fd5e4504f7474d4c3c3c4668c267be3370e4c2fd33e61506833/multipledispatch-0.6.0-py3-none-any.whl\n",
            "Requirement already satisfied: six in /usr/local/lib/python3.7/dist-packages (from multipledispatch) (1.15.0)\n",
            "Installing collected packages: multipledispatch\n",
            "Successfully installed multipledispatch-0.6.0\n"
          ],
          "name": "stdout"
        }
      ]
    },
    {
      "cell_type": "markdown",
      "metadata": {
        "id": "Lg48qfbDViDj"
      },
      "source": [
        "# TOP DOWN APPROACH"
      ]
    },
    {
      "cell_type": "code",
      "metadata": {
        "id": "jEHJI1yzdghC"
      },
      "source": [
        "import pandas as pd\n",
        "import numpy as np\n",
        "import math\n",
        "import matplotlib.pyplot as plt\n",
        "import seaborn as sns\n",
        "from matplotlib.pylab import rcParams\n",
        "rcParams['figure.figsize'] = 10, 6\n",
        "\n",
        "from sklearn.neighbors import KNeighborsClassifier\n",
        "from sklearn.metrics import confusion_matrix, accuracy_score\n",
        "from sklearn.preprocessing import StandardScaler\n",
        "import random\n",
        "from multipledispatch import dispatch\n",
        "\n",
        "import warnings\n",
        "warnings.simplefilter(\"ignore\")"
      ],
      "execution_count": null,
      "outputs": []
    },
    {
      "cell_type": "markdown",
      "metadata": {
        "id": "GqqvlpvWvhGu"
      },
      "source": [
        "## data()"
      ]
    },
    {
      "cell_type": "code",
      "metadata": {
        "id": "dPmfJIeAWQoQ"
      },
      "source": [
        "def data(dt):\n",
        "  print(\"We currently have this dataset.\\n\\n\")\n",
        "  dt = dt.loc[:,['Names', 'Goals_per_match', 'Assists_per_match', 'Position']]\n",
        "  print(dt.head())\n",
        "\n",
        "  return dt"
      ],
      "execution_count": null,
      "outputs": []
    },
    {
      "cell_type": "markdown",
      "metadata": {
        "id": "-gm7UWRhvvz3"
      },
      "source": [
        "## menu()"
      ]
    },
    {
      "cell_type": "code",
      "metadata": {
        "id": "sVT-yl-8dgem"
      },
      "source": [
        "def menu():\n",
        "  flag = -1\n",
        "\n",
        "  while flag<0:\n",
        "    print(\"\\nThese are the algorithms:\\n1. K-Means Clustering\\n2. KNN Classification\\n\\nEnter your choice:\")\n",
        "    choice = int(input())\n",
        "    if choice==1 or choice==2:\n",
        "      flag=0\n",
        "    else:\n",
        "      print(\"Wrong Choice\\n\\nEnter your choice again.\")\n",
        "\n",
        "  algos = {1: \"K-Means Clustering\", 2: \"K-NN Classification\"}\n",
        "\n",
        "  print(\"\\nYou have chosen: \", end='')\n",
        "  print(algos[choice])\n",
        "\n",
        "  k = int(input(\"\\nEnter the value of k: \"))\n",
        "\n",
        "  print(\"\\nDistances that can be used:\\n1. Manhattan Distance\\n2. Euclidean Distance\\n\")\n",
        "  d = int(input(\"Choose the type of distance you want to use: \"))\n",
        "\n",
        "  return choice, k, d "
      ],
      "execution_count": null,
      "outputs": []
    },
    {
      "cell_type": "markdown",
      "metadata": {
        "id": "3G5wC0YJdX__"
      },
      "source": [
        "## Distances"
      ]
    },
    {
      "cell_type": "markdown",
      "metadata": {
        "id": "bUqoGCwxwUev"
      },
      "source": [
        "## Manhattan distance"
      ]
    },
    {
      "cell_type": "code",
      "metadata": {
        "id": "ho3a7TIKdgJB"
      },
      "source": [
        "@dispatch(np.ndarray, int, int)\n",
        "def distance(X, n, r):\n",
        "  #print(\"\\nCalculating Manhattan Distance\\n\")\n",
        "  a, b = [], []\n",
        "\n",
        "  for i in range(n):\n",
        "    #       target    -every value\n",
        "    a += [abs(X[r][0] - X[i][0])]\n",
        "    b += [abs(X[r][1] - X[i][1])]\n",
        "\n",
        "  sum = []\n",
        "  for i in range(n):\n",
        "    sum+=[a[i]+b[i]]\n",
        "\n",
        "  return sum"
      ],
      "execution_count": null,
      "outputs": []
    },
    {
      "cell_type": "markdown",
      "metadata": {
        "id": "qs-4IiV_wch4"
      },
      "source": [
        "## Euclidean distance"
      ]
    },
    {
      "cell_type": "code",
      "metadata": {
        "id": "xSZUofrAdgDo"
      },
      "source": [
        "@dispatch(np.ndarray, int, int, int)\n",
        "def distance(X, n, r, z):\n",
        "  #print(\"\\nCalculating Euclidean Distance\\n\")\n",
        "  a, b = [], []\n",
        "\n",
        "  for i in range(n):\n",
        "    #       target    -every value\n",
        "    a += [abs(X[r][0] - X[i][0])]\n",
        "    b += [abs(X[r][1] - X[i][1])]\n",
        "\n",
        "  sum = []\n",
        "  for i in range(n):\n",
        "    sum += [ math.sqrt(a[i]**2 + b[i]**2) ]\n",
        "\n",
        "  return sum"
      ],
      "execution_count": null,
      "outputs": []
    },
    {
      "cell_type": "markdown",
      "metadata": {
        "id": "kTZwdPCmvyrG"
      },
      "source": [
        "## kmeans"
      ]
    },
    {
      "cell_type": "code",
      "metadata": {
        "id": "U9KVYF1rdgWg"
      },
      "source": [
        "def kmeans(dt, k, d):\n",
        "  print(\"K-MEANS\")\n",
        "  counter = 0\n",
        "  Dict = {}\n",
        "  \n",
        "  X = dt.iloc[:, [1, 2]].values\n",
        "  y = dt.iloc[:, [2]].values\n",
        "\n",
        "  n = len(y)\n",
        "  pca = []\n",
        "  for i in range(n):\n",
        "    pca+=[ (X[i][0]+X[i][1])/2 ]\n",
        "\n",
        "  variance = []\n",
        "  for w in range(10):  # for 10 random set of centroids  \n",
        "    flag1, flag2 = 0, 0\n",
        "    c = [0]*k         # centroid indexes\n",
        "    centroid = [0]*k  # actual centroid\n",
        "\n",
        "    # centroid index position\n",
        "    for i in range(k):\n",
        "        c[i] = random.randint(0, n-1)\n",
        "        if c[i] in c:\n",
        "          c[i] = random.randint(0, n-1)\n",
        "    \n",
        "    for i in range(k):\n",
        "      centroid[i] = pca[c[i]] \n",
        "\n",
        "    \n",
        "\n",
        "    while(flag1 == 0):\n",
        "      counter+=1\n",
        "      if counter>100:\n",
        "        break\n",
        "    #    flag1 = 1\n",
        "      cent_new = [0]*k\n",
        "      dist = [0]*k\n",
        "\n",
        "      grp = []\n",
        "      group = []\n",
        "      \n",
        "      for i in range(k): # for each centroid\n",
        "        grp+=[[]]\n",
        "        group+=[[]]\n",
        "        \n",
        "        if d==1:\n",
        "          dist[i] = distance(X, n, c[i])\n",
        "        elif d==2:\n",
        "          dist[i] = distance(X, n, c[i], d)\n",
        "\n",
        "      for u in range(n):    # row wise iteration\n",
        "        #dist[u]\n",
        "        lst=[0]*k           \n",
        "\n",
        "        for v in range(k):  # for centroid wise iteration\n",
        "\n",
        "          lst[v] = dist[v][u] \n",
        "        \n",
        "\n",
        "        mn = min(lst)           \n",
        "\n",
        "        ind = lst.index(mn)     \n",
        "\n",
        "        grp[ind] += [ u ]  \n",
        "\n",
        "        group[ind] += [ pca[u] ] # k-clusters are made\n",
        "\n",
        "      # the clusters are getting new centroids\n",
        "      for i in range(k):\n",
        "        if len(group[i])>0:\n",
        "          cent_new[i] = round(sum(group[i])/len(group[i]),4)\n",
        "\n",
        "      # checking if the cluster centroids are changing 345, 345\n",
        "      flag2 = 0\n",
        "      for i in range(k):\n",
        "        if centroid[i] != cent_new[i]:\n",
        "          flag2=1\n",
        "      flag1 = 0\n",
        "      if flag2==0: # this means, the centroids (old and new) are same\n",
        "        flag1 = 1\n",
        "      else: \n",
        "        centroid = cent_new # will use these new centroids to make new clusters\n",
        "        continue\n",
        "\n",
        "      var = []\n",
        "      \n",
        "      for i in range(k):\n",
        "        var += [[]]\n",
        "\n",
        "        var[i] = np.var(group[i])\n",
        "\n",
        "      Dict[sum(var)] = c \n",
        "\n",
        "      variance+=[sum(var)]\n",
        "\n",
        "  spl_c = Dict[min(Dict.keys())]   #special centroids\n",
        "  print(\"\\nCentroids: \", spl_c)\n",
        "  centroid = [0]*k\n",
        "\n",
        "  for i in range(k):\n",
        "    centroid[i] = pca[spl_c[i]]\n",
        "\n",
        "  dist = [0]*k\n",
        "\n",
        "  grp = []\n",
        "  group = []\n",
        "  \n",
        "  for i in range(k): # for each centroid\n",
        "    grp+=[[]]\n",
        "    group+=[[]]\n",
        "    \n",
        "    if d==1:\n",
        "      dist[i] = distance(X, n, c[i])\n",
        "    elif d==2:\n",
        "      dist[i] = distance(X, n, c[i], d)\n",
        "\n",
        "  for u in range(n):    # row wise iteration\n",
        "    #dist[u]\n",
        "    lst=[0]*k           \n",
        "\n",
        "    for v in range(k):  # for centroid wise iteration\n",
        "\n",
        "      lst[v] = dist[v][u] \n",
        "    \n",
        "\n",
        "    mn = min(lst)           \n",
        "\n",
        "    ind = lst.index(mn)     \n",
        "\n",
        "    grp[ind] += [ u ]  \n",
        "\n",
        "    group[ind] += [ pca[u] ] # k-clusters are made\n",
        "\n",
        "  for i in range(k):\n",
        "    print(\"\\n\\nCluster \", i , \":\\n\")\n",
        "    print(grp[i])\n",
        "    print(dt.iloc[grp[i], [0]])\n",
        "\n",
        "  \n"
      ],
      "execution_count": null,
      "outputs": []
    },
    {
      "cell_type": "markdown",
      "metadata": {
        "id": "Vrpl3MJ7v1lw"
      },
      "source": [
        "## knn"
      ]
    },
    {
      "cell_type": "code",
      "metadata": {
        "id": "L-SPSv9cdgTy"
      },
      "source": [
        "def knn(dt, k, d):\n",
        "  print(\"K-NN\")\n",
        "\n",
        "  X = dt.iloc[:, [2,1]].values\n",
        "  y = dt.iloc[:, [-1]].values\n",
        "\n",
        "  n = len(y)\n",
        "  \n",
        "  prediction = []\n",
        "  actual = [] \n",
        "\n",
        "  for iteration in range(10):\n",
        "    r = random.randint(0, n-1)\n",
        "    actual.append(y[r,0])\n",
        "\n",
        "    if(d==1):\n",
        "      dist = distance(X, n, r)\n",
        "    elif d==2:\n",
        "      dist = distance(X, n, r, d)\n",
        "\n",
        "    pos = y[:,0]\n",
        "\n",
        "    df = pd.DataFrame({'sum': dist,'pos': pos})\n",
        "\n",
        "    df = df.sort_values(by = 'sum')\n",
        "\n",
        "    p = list(df.head(k).pos)\n",
        "\n",
        "    class_count = dict()\n",
        "    for i in p:\n",
        "      class_count[i] = 0\n",
        "\n",
        "    for i in p:\n",
        "      class_count[i] += 1\n",
        "\n",
        "    class_count_list = class_count.values()\n",
        "\n",
        "    max_of_class_count = max(class_count_list)\n",
        "\n",
        "    for i in class_count:\n",
        "      if class_count[i]==max_of_class_count:\n",
        "        prediction.append(i)\n",
        "\n",
        "  cm = [ [0]*3 ]*3\n",
        "  cm=np.array(cm)\n",
        "  \n",
        "  print(\"\\nActual class values:\\n\", actual)\n",
        "  print(\"\\nPredicted class value:\\n\", prediction)\n",
        "  for i in range(len(actual)):\n",
        "    cm[prediction[i]][actual[i]]+=1\n",
        "  print(\"\\nConfusion Matrix:\\n\", cm)  \n",
        "\n",
        "  print(\"\\nAccuracy: \", (np.trace(cm)/np.sum(cm))*100,\"%\")"
      ],
      "execution_count": null,
      "outputs": []
    },
    {
      "cell_type": "markdown",
      "metadata": {
        "id": "VVtiyvHgv34u"
      },
      "source": [
        "## algos()"
      ]
    },
    {
      "cell_type": "code",
      "metadata": {
        "id": "ckrrU-D8dgZF"
      },
      "source": [
        "def algos(dt):\n",
        "  choice, k, d = menu()\n",
        "\n",
        "  if choice==1:\n",
        "    kmeans(dt, k, d)\n",
        "  elif choice==2:\n",
        "    knn(dt, k, d)"
      ],
      "execution_count": null,
      "outputs": []
    },
    {
      "cell_type": "markdown",
      "metadata": {
        "id": "xljh4oFevZwh"
      },
      "source": [
        "## Driver Function"
      ]
    },
    {
      "cell_type": "code",
      "metadata": {
        "id": "Tmw7ghvLWskr"
      },
      "source": [
        "# the driver function, the one which will control the whole project\n",
        "\n",
        "def driver():\n",
        "  filename = '/content/drive/MyDrive/Minor_2/fantasy_fooball.csv'\n",
        "  dt = pd.read_csv(filename)\n",
        "\n",
        "  dt = data(dt)\n",
        "\n",
        "  algos(dt)"
      ],
      "execution_count": null,
      "outputs": []
    },
    {
      "cell_type": "markdown",
      "metadata": {
        "id": "14UJVQ6msT_3"
      },
      "source": [
        "### DRIVE"
      ]
    },
    {
      "cell_type": "code",
      "metadata": {
        "id": "ErpOcTardgQ-",
        "colab": {
          "base_uri": "https://localhost:8080/"
        },
        "outputId": "2cc598af-13ab-4fc3-df28-bcd52559d150"
      },
      "source": [
        "driver()"
      ],
      "execution_count": null,
      "outputs": [
        {
          "output_type": "stream",
          "text": [
            "We currently have this dataset.\n",
            "\n",
            "\n",
            "              Names  Goals_per_match  Assists_per_match  Position\n",
            "0              Pepe         0.059406           0.049505         0\n",
            "1   Aymeric Laporte         0.050746           0.029851         0\n",
            "2    Raphael Varane         0.050132           0.018470         0\n",
            "3   Clement Lenglet         0.046429           0.017857         0\n",
            "4  Andrew Robertson         0.046196           0.086739         0\n",
            "\n",
            "These are the algorithms:\n",
            "1. K-Means Clustering\n",
            "2. KNN Classification\n",
            "\n",
            "Enter your choice:\n",
            "1\n",
            "\n",
            "You have chosen: K-Means Clustering\n",
            "\n",
            "Enter the value of k: 3\n",
            "\n",
            "Distances that can be used:\n",
            "1. Manhattan Distance\n",
            "2. Euclidean Distance\n",
            "\n",
            "Choose the type of distance you want to use: 2\n",
            "K-MEANS\n",
            "\n",
            "Centroids:  [29, 3, 17]\n",
            "\n",
            "\n",
            "Cluster  0 :\n",
            "\n",
            "[10, 12, 13, 14, 15, 16, 17, 18, 19]\n",
            "                 Names\n",
            "10      Diego Maradona\n",
            "12   Cristiano Ronaldo\n",
            "13  Robert Lewandowski\n",
            "14      Erling Haaland\n",
            "15      Kyllian Mbappe\n",
            "16         Luis Suarez\n",
            "17  Zlatan Ibrahimovic\n",
            "18       Neymar Junior\n",
            "19          Harry Kane\n",
            "\n",
            "\n",
            "Cluster  1 :\n",
            "\n",
            "[0, 1, 2, 3, 4, 5, 6, 7, 8, 9, 20, 21, 22, 23, 24, 25, 26, 27, 28, 29]\n",
            "                Names\n",
            "0                Pepe\n",
            "1     Aymeric Laporte\n",
            "2      Raphael Varane\n",
            "3     Clement Lenglet\n",
            "4    Andrew Robertson\n",
            "5        Joao Cancelo\n",
            "6        Sol Campbell\n",
            "7       Paolo Maldini\n",
            "8   Kalidou Koulibaly\n",
            "9        Carles Puyol\n",
            "20     Kevin DeBruyne\n",
            "21           P Nedved\n",
            "22     Andres Iniesta\n",
            "23    Zinedine Zidane\n",
            "24         Paul Pogba\n",
            "25       David Bekham\n",
            "26               Deco\n",
            "27             Hakimi\n",
            "28     Xavi Hernandes\n",
            "29    Frenkie De Jong\n",
            "\n",
            "\n",
            "Cluster  2 :\n",
            "\n",
            "[11]\n",
            "           Names\n",
            "11  Lionel Messi\n"
          ],
          "name": "stdout"
        }
      ]
    },
    {
      "cell_type": "markdown",
      "metadata": {
        "id": "NdgZmm3ttcWh"
      },
      "source": [
        "---\n"
      ]
    }
  ]
}